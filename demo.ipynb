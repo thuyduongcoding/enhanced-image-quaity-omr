{
 "cells": [
  {
   "cell_type": "code",
   "execution_count": 14,
   "metadata": {},
   "outputs": [
    {
     "name": "stdout",
     "output_type": "stream",
     "text": [
      "Upscaling...\n",
      "C:/Users/nguye/OneDrive/Documents/Braille Sheet App/waifu2x-ncnn-vulkan-20220728-windows/waifu2x-ncnn-vulkan-20220728-windows/waifu2x-ncnn-vulkan.exe -v -i remove_lyrics_image\\36.jpg -o upscale_image\\36.jpg -n 2 -s 4 -f png\n",
      "b'[0 Intel(R) UHD Graphics 620]  queueC=0[1]  queueG=0[1]  queueT=0[1]\\r\\n'\n",
      "b'[0 Intel(R) UHD Graphics 620]  bugsbn1=0  bugbilz=93  bugcopc=0  bugihfa=0\\r\\n'\n",
      "b'[0 Intel(R) UHD Graphics 620]  fp16-p/s/a=1/1/0  int8-p/s/a=1/1/0\\r\\n'\n",
      "b'[0 Intel(R) UHD Graphics 620]  subgroup=32  basic=1  vote=1  ballot=1  shuffle=1\\r\\n'\n",
      "b'remove_lyrics_image\\\\36.jpg -> upscale_image\\\\36.jpg done\\r\\n'\n",
      "Done upscaling\n",
      "Denoising...\n",
      "C:/Users/nguye/OneDrive/Documents/Braille Sheet App/waifu2x-ncnn-vulkan-20220728-windows/waifu2x-ncnn-vulkan-20220728-windows/waifu2x-ncnn-vulkan.exe -v -i upscale_image\\36.jpg -o denoise_image\\36.jpg -n 2 -s 1 -f png\n",
      "b'[0 Intel(R) UHD Graphics 620]  queueC=0[1]  queueG=0[1]  queueT=0[1]\\r\\n'\n",
      "b'[0 Intel(R) UHD Graphics 620]  bugsbn1=0  bugbilz=0  bugcopc=0  bugihfa=0\\r\\n'\n",
      "b'[0 Intel(R) UHD Graphics 620]  fp16-p/s/a=1/1/0  int8-p/s/a=1/1/0\\r\\n'\n",
      "b'[0 Intel(R) UHD Graphics 620]  subgroup=32  basic=1  vote=1  ballot=1  shuffle=1\\r\\n'\n",
      "b'upscale_image\\\\36.jpg -> denoise_image\\\\36.jpg done\\r\\n'\n",
      "Done denoising\n"
     ]
    },
    {
     "data": {
      "text/plain": [
       "True"
      ]
     },
     "execution_count": 14,
     "metadata": {},
     "output_type": "execute_result"
    }
   ],
   "source": [
    "from lyrics_remove import remove_lyrics\n",
    "from process_input_image import enhance_image\n",
    "import os\n",
    "import cv2 as cv\n",
    "\n",
    "image_path = '36.jpg'\n",
    "\n",
    "input_dir = 'test_image'\n",
    "remove_lyrics_dir = 'remove_lyrics_image'\n",
    "upscale_dir = 'upscale_image'\n",
    "denoise_dir = 'denoise_image'\n",
    "thresh_dir = 'thresh_image'\n",
    "\n",
    "demo_input_path = os.path.join(input_dir, image_path)\n",
    "\n",
    "# Remove lyrics\n",
    "remove_lyrics_image = remove_lyrics(demo_input_path, show_image=False)\n",
    "remove_lyrics_path = os.path.join(remove_lyrics_dir, image_path)\n",
    "cv.imwrite(remove_lyrics_path, remove_lyrics_image)\n",
    "\n",
    "# Upscale, denoise, sharpen and binarize image\n",
    "upscale_image_path = os.path.join(upscale_dir, image_path)\n",
    "denoise_image_path = os.path.join(denoise_dir, image_path)\n",
    "thresh_img = enhance_image(remove_lyrics_path, upscale_image_path, denoise_image_path)\n",
    "\n",
    "thresh_image_path = os.path.join(thresh_dir, image_path)\n",
    "cv.imwrite(thresh_image_path, thresh_img)"
   ]
  },
  {
   "cell_type": "code",
   "execution_count": 12,
   "metadata": {},
   "outputs": [
    {
     "data": {
      "text/plain": [
       "True"
      ]
     },
     "execution_count": 12,
     "metadata": {},
     "output_type": "execute_result"
    }
   ],
   "source": [
    "import cv2 as cv\n",
    "\n",
    "image_path = 'test_image/44.png'\n",
    "img = cv.imread(image_path,0)\n",
    "th3 = cv.adaptiveThreshold(img,255,cv.ADAPTIVE_THRESH_GAUSSIAN_C, cv.THRESH_BINARY,3,0.9)\n",
    "\n",
    "cv.imwrite('audiveris_only//{}'.format(image_path.split('/')[1]), th3)"
   ]
  }
 ],
 "metadata": {
  "kernelspec": {
   "display_name": "aicc",
   "language": "python",
   "name": "python3"
  },
  "language_info": {
   "codemirror_mode": {
    "name": "ipython",
    "version": 3
   },
   "file_extension": ".py",
   "mimetype": "text/x-python",
   "name": "python",
   "nbconvert_exporter": "python",
   "pygments_lexer": "ipython3",
   "version": "3.12.1"
  }
 },
 "nbformat": 4,
 "nbformat_minor": 2
}
